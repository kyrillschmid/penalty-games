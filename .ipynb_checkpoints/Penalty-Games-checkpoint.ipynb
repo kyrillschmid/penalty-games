{
 "cells": [
  {
   "cell_type": "code",
   "execution_count": 1,
   "metadata": {},
   "outputs": [],
   "source": [
    "import os\n",
    "import numpy as np\n",
    "import pandas as pd\n",
    "import matplotlib.pyplot as plt\n",
    "\n",
    "from mpl_toolkits.mplot3d import axes3d, Axes3D\n",
    "import seaborn as sns\n",
    "import matplotlib.lines as mlines\n",
    "\n",
    "sns.set(font_scale=1, rc={'text.usetex': True})\n",
    "sns.set_style(\"whitegrid\")\n"
   ]
  },
  {
   "cell_type": "code",
   "execution_count": 2,
   "metadata": {},
   "outputs": [
    {
     "name": "stdout",
     "output_type": "stream",
     "text": [
      "['#f77189', '#dc8932', '#ae9d31', '#77ab31', '#33b07a', '#36ada4', '#38a9c5', '#6e9bf4', '#cc7af4', '#f565cc']\n"
     ]
    }
   ],
   "source": [
    "pal = sns.color_palette(\"husl\", 10)\n",
    "flatui = pal.as_hex()\n",
    "print(flatui)"
   ]
  },
  {
   "cell_type": "markdown",
   "metadata": {},
   "source": [
    "### 2-Player social dilemmas"
   ]
  },
  {
   "cell_type": "code",
   "execution_count": 8,
   "metadata": {},
   "outputs": [],
   "source": [
    "def plot_2player_sd(df, name):\n",
    "    ax = sns.lineplot(data=df[df['episode'] > 1000], #.groupby(['price']).mean(),\n",
    "              x='price',\n",
    "              y='reward',\n",
    "              #hue='price',\n",
    "              #hue_order=['Markov Game', 'Sanction Game'],\n",
    "              palette=flatui\n",
    "              )\n",
    "\n",
    "    #h,l = ax.get_legend_handles_labels()\n",
    "    #plt.legend(h[0:4]+h[5:],l[0:4]+l[5:])\n",
    "    ax.set(xlabel='Sanctioning value $p$', ylabel='Average return')\n",
    "    #plt.show()\n",
    "    plt.savefig('{}-sanctioning-value.pdf'.format(name))\n",
    "    plt.close()\n",
    "    \n",
    "    \n",
    "def get_env_data_sd(env, price):\n",
    "    log_str = '{}-p-{}.csv'.format(env, price)\n",
    "    envs = {'PD': 'Prisoner\\'s Dilemma', 'SH': 'Stag Hunt', 'CH': 'Chicken'}\n",
    "    log_dir = os.path.join('exps', log_str)\n",
    "    df = None\n",
    "    if os.path.exists(log_dir):\n",
    "        df = pd.read_csv(log_dir)\n",
    "        df.loc[df['setting'] == 'Stochastic Market Game', 'setting'] = '{} with Sanctions'.format(envs[env])\n",
    "        df.loc[df['setting'] == 'Markov Game', 'setting'] = '{} no Sanctions'.format(envs[env])\n",
    "        df['reward'] = (df.reward-df.reward.min())/(df.reward.max()-df.reward.min())\n",
    "        df = df.rename(columns={\"setting\": \"Game Type\"})\n",
    "        df['env'] = env\n",
    "        df = df[df['agent']=='sum']\n",
    "    return df"
   ]
  },
  {
   "cell_type": "code",
   "execution_count": 9,
   "metadata": {},
   "outputs": [],
   "source": [
    "env = 'PD'\n",
    "prices = [3.0, 2.5, 1.9, 1.0, 0.5, -0.5, -1.0, -1.9, -2.5, -3.0]\n",
    "df = pd.DataFrame()\n",
    "for p in np.arange(-5, 10, 0.1):\n",
    "    p = np.around(p, 2)\n",
    "    df = df.append(get_env_data_sd(env, p))\n",
    "\n",
    "plot_2player_sd(df, env)"
   ]
  },
  {
   "cell_type": "code",
   "execution_count": 52,
   "metadata": {},
   "outputs": [
    {
     "name": "stdout",
     "output_type": "stream",
     "text": [
      "-5.0\n",
      "-4.9\n",
      "-4.8\n",
      "-4.7\n",
      "-4.6\n",
      "-4.5\n",
      "-4.4\n",
      "-4.3\n",
      "-4.2\n",
      "-4.1\n",
      "-4.0\n",
      "-3.9\n",
      "-3.8\n",
      "-3.7\n",
      "-3.6\n",
      "-3.5\n",
      "-3.4\n",
      "-3.3\n",
      "-3.2\n",
      "-3.1\n",
      "-3.0\n",
      "-2.9\n",
      "-2.8\n",
      "-2.7\n",
      "-2.6\n",
      "-2.5\n",
      "-2.4\n",
      "-2.3\n",
      "-2.2\n",
      "-2.1\n",
      "-2.0\n",
      "-1.9\n",
      "-1.8\n",
      "-1.7\n",
      "-1.6\n",
      "-1.5\n",
      "-1.4\n",
      "-1.3\n",
      "-1.2\n",
      "-1.1\n",
      "-1.0\n",
      "-0.9\n",
      "-0.8\n",
      "-0.7\n",
      "-0.6\n",
      "-0.5\n",
      "-0.4\n",
      "-0.3\n",
      "-0.2\n",
      "-0.1\n",
      "-0.0\n",
      "0.1\n",
      "0.2\n",
      "0.3\n",
      "0.4\n",
      "0.5\n",
      "0.6\n",
      "0.7\n",
      "0.8\n",
      "0.9\n",
      "1.0\n",
      "1.1\n",
      "1.2\n",
      "1.3\n",
      "1.4\n",
      "1.5\n",
      "1.6\n",
      "1.7\n",
      "1.8\n",
      "1.9\n",
      "2.0\n",
      "2.1\n",
      "2.2\n",
      "2.3\n",
      "2.4\n",
      "2.5\n",
      "2.6\n",
      "2.7\n",
      "2.8\n",
      "2.9\n",
      "3.0\n",
      "3.1\n",
      "3.2\n",
      "3.3\n",
      "3.4\n",
      "3.5\n",
      "3.6\n",
      "3.7\n",
      "3.8\n",
      "3.9\n",
      "4.0\n",
      "4.1\n",
      "4.2\n",
      "4.3\n",
      "4.4\n",
      "4.5\n",
      "4.6\n",
      "4.7\n",
      "4.8\n",
      "4.9\n"
     ]
    }
   ],
   "source": [
    "for p in np.arange(-5, 5, 0.1):\n",
    "    print(np.around(p, 2))"
   ]
  },
  {
   "cell_type": "code",
   "execution_count": null,
   "metadata": {},
   "outputs": [],
   "source": []
  }
 ],
 "metadata": {
  "kernelspec": {
   "display_name": "deal",
   "language": "python",
   "name": "deal"
  },
  "language_info": {
   "codemirror_mode": {
    "name": "ipython",
    "version": 3
   },
   "file_extension": ".py",
   "mimetype": "text/x-python",
   "name": "python",
   "nbconvert_exporter": "python",
   "pygments_lexer": "ipython3",
   "version": "3.7.9"
  }
 },
 "nbformat": 4,
 "nbformat_minor": 2
}
