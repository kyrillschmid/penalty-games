{
 "cells": [
  {
   "cell_type": "code",
   "execution_count": 6,
   "metadata": {},
   "outputs": [],
   "source": [
    "import os\n",
    "import numpy as np\n",
    "import pandas as pd\n",
    "import matplotlib.pyplot as plt\n",
    "\n",
    "from mpl_toolkits.mplot3d import axes3d, Axes3D\n",
    "import seaborn as sns\n",
    "import matplotlib.lines as mlines\n",
    "\n",
    "sns.set(font_scale=1, rc={'text.usetex': True})\n",
    "sns.set_style(\"whitegrid\")\n"
   ]
  },
  {
   "cell_type": "code",
   "execution_count": 919,
   "metadata": {},
   "outputs": [],
   "source": [
    "pal = sns.color_palette(\"husl\", 2)\n",
    "flatui = pal.as_hex()"
   ]
  },
  {
   "cell_type": "code",
   "execution_count": null,
   "metadata": {},
   "outputs": [],
   "source": [
    "alphas = [1.0, 0.9, 0.5 , 0.25, 0.1, 0.01]\n",
    "gammas = [0.95, 0.98, 0.99, 1.0]\n",
    "prices = [0.1, 0.2, 0.3, 0.4, 0.5, 0.6, 0.7, 0.8, 0.9, 1.0, 1.1, 1.2, 1.3, 1.4, 1.5]\n",
    "\n",
    "df_all = pd.DataFrame()\n",
    "\n",
    "settings = 360\n",
    "modes = 2\n",
    "runs = 5\n",
    "\n",
    "x_prices = np.zeros((settings, modes))\n",
    "y_alpha = np.zeros((settings, modes))\n",
    "y_gamma = np.zeros((settings, modes))\n",
    "z_rewards = np.zeros((settings, modes))\n",
    "\n",
    "setting = 0\n",
    "for alpha in alphas:\n",
    "    for gamma in gammas:\n",
    "        for price in prices:\n",
    "            log_str = 'alpha-{}-gamma-{}-price-{}.csv'.format(alpha, gamma, price)\n",
    "            log_dir = os.path.join('exps', log_str)\n",
    "            df = pd.read_csv(log_dir)\n",
    "                        \n",
    "            for run in range(runs):\n",
    "                for mode in range(modes):\n",
    "                    df_run_setting = df.loc[(df.setting == mode) & (df.run == run)].tail(100).mean()\n",
    "                    \n",
    "                    #print(df_run_setting)\n",
    "                    x_prices[setting][mode] += df_run_setting.price\n",
    "                    if run == 0:\n",
    "                        y_alpha[setting][mode] += df.loc[(df.setting == mode) & (df.run == run)].tail(1).alpha\n",
    "                        y_gamma[setting][mode] += df.loc[(df.setting == mode) & (df.run == run)].tail(1).gamma\n",
    "                        z_rewards[setting][mode] += df.loc[(df.setting == mode) & (df.run == run)].tail(1).reward\n",
    "            \n",
    "            \n",
    "            x_prices[setting] = x_prices[setting] / runs\n",
    "            setting += 1\n",
    "            \n",
    "            df_all = df_all.append(df, ignore_index=True)\n",
    "        \n",
    "\n"
   ]
  },
  {
   "cell_type": "code",
   "execution_count": null,
   "metadata": {},
   "outputs": [],
   "source": [
    "df_test_episodes = (df_all['i_episode'] >= 1900)\n",
    "df_test_episodes\n",
    "df_test = df_all[df_test_episodes].groupby(['alpha', 'gamma', 'price', 'setting']).mean().reset_index()\n",
    "\n",
    "\n",
    "df_test.loc[(df_test['setting'] == 0.0),'setting'] = \"market\"\n",
    "df_test.loc[(df_test['setting'] == 1.0),'setting'] = \"no-market\"\n",
    "\n",
    "\n",
    "g = sns.FacetGrid(df_test, row=\"alpha\", col=\"gamma\", hue=\"setting\", margin_titles=True)\n",
    "g.map(sns.scatterplot, \"price\", \"reward\") #, fit_reg=False, x_jitter=.1)\n",
    "g.add_legend();\n",
    "plt.savefig('coin-game.pdf')"
   ]
  },
  {
   "cell_type": "code",
   "execution_count": null,
   "metadata": {},
   "outputs": [],
   "source": [
    "log_str = 'rolling-mean-alpha-0.5-gamma-0.95-price-0.8.csv'\n",
    "log_dir = os.path.join('exps', log_str)\n",
    "df = pd.read_csv(log_dir)"
   ]
  },
  {
   "cell_type": "code",
   "execution_count": null,
   "metadata": {},
   "outputs": [],
   "source": [
    "df_rolling = pd.DataFrame()\n",
    "for setting in ['no-market', 'market']:\n",
    "    for run in range(20):\n",
    "        df_s_r = df[(df['setting'] == setting) & (df['run'] == run)]\n",
    "        df_s_r['reward_rolling'] = df_s_r['reward'].rolling(20).mean()\n",
    "        df_rolling = df_rolling.append(df_s_r, ignore_index=True)"
   ]
  },
  {
   "cell_type": "code",
   "execution_count": null,
   "metadata": {},
   "outputs": [],
   "source": [
    "sns.lineplot(x=\"i_episode\", y=\"reward_rolling\", hue='setting', data=df_rolling)\n",
    "plt.savefig('plots/market-games-rolling-mean-alpha-0.5-gamma-0.95-price-0.8.pdf')"
   ]
  },
  {
   "cell_type": "code",
   "execution_count": null,
   "metadata": {},
   "outputs": [],
   "source": [
    "df_all = pd.DataFrame()\n",
    "nb_comps = 25\n",
    "modes = ['market', 'no-market']\n",
    "\n",
    "comps = np.linspace(0, 3, nb_comps)\n",
    "\n",
    "setting = 0\n",
    "for comp in comps:\n",
    "    log_str = '3-coord-comp-{}.csv'.format(comp)\n",
    "    log_dir = os.path.join('exps', log_str)\n",
    "    df = pd.read_csv(log_dir)\n",
    "    df_all = df_all.append(df, ignore_index=True)\n",
    "\n",
    "df_agent_sum = ((df_all['agent'] == 'agent-0') or (df_all['agent'] == 'agent-1'))\n",
    "df_test_episodes = (df_all['i_episode'] >= 3500)\n",
    "\n",
    "df_test = df_all[df_agent_sum]\n",
    "df_test = df_test[df_test_episodes]\n"
   ]
  },
  {
   "cell_type": "code",
   "execution_count": 531,
   "metadata": {},
   "outputs": [
    {
     "ename": "NameError",
     "evalue": "name 'df_test' is not defined",
     "output_type": "error",
     "traceback": [
      "\u001b[0;31m---------------------------------------------------------------------------\u001b[0m",
      "\u001b[0;31mNameError\u001b[0m                                 Traceback (most recent call last)",
      "\u001b[0;32m<ipython-input-531-4907e98dfc63>\u001b[0m in \u001b[0;36m<module>\u001b[0;34m\u001b[0m\n\u001b[1;32m      1\u001b[0m \u001b[0mflatui\u001b[0m \u001b[0;34m=\u001b[0m \u001b[0;34m[\u001b[0m\u001b[0;34m\"#34495e\"\u001b[0m \u001b[0;34m,\u001b[0m \u001b[0;34m\"#36ada4\"\u001b[0m\u001b[0;34m]\u001b[0m \u001b[0;31m#, \"#b13c6c\"] # , \"#34495e\"]\u001b[0m\u001b[0;34m\u001b[0m\u001b[0;34m\u001b[0m\u001b[0m\n\u001b[0;32m----> 2\u001b[0;31m ax = sns.lineplot(x='comp', y='reward', data=df_test, hue=\"setting\", style=\"setting\",\n\u001b[0m\u001b[1;32m      3\u001b[0m                    palette=flatui, markers=True, linewidth = 2.2)\n\u001b[1;32m      4\u001b[0m \u001b[0;34m\u001b[0m\u001b[0m\n\u001b[1;32m      5\u001b[0m l = mlines.Line2D([i for i in comps], [max((0.125*3) + ((0.875*3)-i), i) for i in comps],\n",
      "\u001b[0;31mNameError\u001b[0m: name 'df_test' is not defined"
     ]
    }
   ],
   "source": [
    "flatui = [\"#34495e\" , \"#36ada4\"] #, \"#b13c6c\"] # , \"#34495e\"]\n",
    "ax = sns.lineplot(x='comp', y='reward', data=df_test, hue=\"setting\", style=\"setting\",\n",
    "                   palette=flatui, markers=True, linewidth = 2.2)\n",
    "\n",
    "l = mlines.Line2D([i for i in comps], [max((0.125*3) + ((0.875*3)-i), i) for i in comps],\n",
    "                  linestyle='--', color='#7f7f7f', label='Pareto frontier')\n",
    "ax.add_line(l)\n",
    "\n",
    "#l = mlines.Line2D([1.5, 1.5], [0.0, 5.0],\n",
    "#                  linestyle='dashdot', color='black')\n",
    "ax.add_line(l)\n",
    "#ax.set(ylim=(0.5, 4))\n",
    "#ax.text(1.5, 2.8 , 'Pareto frontier', fontweight='bold', fontsize=11, ha='center')\n",
    "#ax.text(2.2, 2.78 , 'Distributional \\n issues', fontweight='bold', fontsize=11, ha='center')\n",
    "\n",
    "ax.set_xticks([0.0, 0.5, 1.0, 1.5, 2.0, 2.5, 3.0])\n",
    "ax.set_xticklabels([r'$\\alpha = 0$', '', '', r'$\\alpha = (R_1 + R_2) / 2$','','',r'$\\alpha = R_2$'])\n",
    "\n",
    "h,l = ax.get_legend_handles_labels()\n",
    "plt.legend(h[0:],l[0:-1], ncol=1, loc='upper center', \n",
    "       bbox_to_anchor=[0.2, 0.3], \n",
    "       #columnspacing=1.3, labelspacing=0.0,\n",
    "       #handletextpad=0.0, handlelength=1.5,\n",
    "       fancybox=True, shadow=True)\n",
    "\n",
    "ax.set(xlabel='Conflict ' + r'($\\alpha$)', ylabel='Overall Reward')\n",
    "#plt.show()   \n",
    "plt.savefig('market-games.pdf')"
   ]
  },
  {
   "cell_type": "markdown",
   "metadata": {},
   "source": [
    "### 2-Player social dilemmas"
   ]
  },
  {
   "cell_type": "code",
   "execution_count": 924,
   "metadata": {},
   "outputs": [],
   "source": [
    "def plot_2player_sd(df, name):\n",
    "    ax = sns.lineplot(data=df,\n",
    "              x='episode',\n",
    "              y='reward',\n",
    "              hue='Game Type',\n",
    "              #hue_order=['Markov Game', 'Sanction Game'],\n",
    "              palette=flatui\n",
    "              )\n",
    "\n",
    "    #h,l = ax.get_legend_handles_labels()\n",
    "    #plt.legend(h[0:4]+h[5:],l[0:4]+l[5:])\n",
    "    ax.set(xlabel='Episode', ylabel='Return')\n",
    "    #plt.show()\n",
    "    plt.savefig('{}.pdf'.format(name))\n",
    "    plt.close()\n",
    "    \n",
    "    \n",
    "def get_env_data_sd(env):\n",
    "    log_str = '{}.csv'.format(env)\n",
    "    envs = {'PD': 'Prisoner\\'s Dilemma', 'SH': 'Stag Hunt', 'CH': 'Chicken'}\n",
    "    log_dir = os.path.join('exps', log_str)\n",
    "    df = None\n",
    "    if os.path.exists(log_dir):\n",
    "        df = pd.read_csv(log_dir)\n",
    "        df.loc[df['setting'] == 'Stochastic Market Game', 'setting'] = '{} with Sanctions'.format(envs[env])\n",
    "        df.loc[df['setting'] == 'Markov Game', 'setting'] = '{} no Sanctions'.format(envs[env])\n",
    "        df['reward'] = (df.reward-df.reward.min())/(df.reward.max()-df.reward.min())\n",
    "        df = df.rename(columns={\"setting\": \"Game Type\"})\n",
    "        df['env'] = name\n",
    "        df = df[df['agent']=='sum']\n",
    "    return df"
   ]
  },
  {
   "cell_type": "code",
   "execution_count": 925,
   "metadata": {},
   "outputs": [],
   "source": [
    "envs = ['PD', 'SH', 'CH']\n",
    "for env in envs:\n",
    "    df_new = get_env_data_sd(env)\n",
    "    plot_2player_sd(df_new, env)"
   ]
  },
  {
   "cell_type": "code",
   "execution_count": 1,
   "metadata": {},
   "outputs": [
    {
     "ename": "NameError",
     "evalue": "name 'df' is not defined",
     "output_type": "error",
     "traceback": [
      "\u001b[0;31m---------------------------------------------------------------------------\u001b[0m",
      "\u001b[0;31mNameError\u001b[0m                                 Traceback (most recent call last)",
      "\u001b[0;32m<ipython-input-1-00cf07b74dcd>\u001b[0m in \u001b[0;36m<module>\u001b[0;34m\u001b[0m\n\u001b[0;32m----> 1\u001b[0;31m \u001b[0mdf\u001b[0m\u001b[0;34m\u001b[0m\u001b[0;34m\u001b[0m\u001b[0m\n\u001b[0m",
      "\u001b[0;31mNameError\u001b[0m: name 'df' is not defined"
     ]
    }
   ],
   "source": [
    "df"
   ]
  },
  {
   "cell_type": "markdown",
   "metadata": {},
   "source": [
    "### N-Player Public good game"
   ]
  },
  {
   "cell_type": "code",
   "execution_count": 847,
   "metadata": {},
   "outputs": [],
   "source": [
    "def plot_sd(df):\n",
    "    ax = sns.lineplot(data=df,\n",
    "                  x='episode',\n",
    "                  y='reward',\n",
    "                  hue='Penalty',\n",
    "                  style='Game Type',\n",
    "                  #hue_order=['Markov Game', 'Sanction Game'],\n",
    "                  #palette=flatui\n",
    "                  )\n",
    "\n",
    "    h,l = ax.get_legend_handles_labels()\n",
    "    plt.legend(h[0:4]+h[5:],l[0:4]+l[5:])\n",
    "    ax.set(xlabel='Episode', ylabel='Return')\n",
    "    #plt.show()\n",
    "    plt.savefig('{}-return.pdf'.format(df.iloc[0]['name']))\n",
    "    plt.close()\n",
    "    \n",
    "    ax = sns.lineplot(data=df,\n",
    "                  x='episode',\n",
    "                  y='action',\n",
    "                  hue='Penalty',\n",
    "                  style='Game Type',\n",
    "                  #hue_order=['Markov Game', 'Sanction Game'],\n",
    "                  #palette=flatui\n",
    "                  )\n",
    "\n",
    "    h,l = ax.get_legend_handles_labels()\n",
    "    plt.legend(h[0:4]+h[5:],l[0:4]+l[5:])\n",
    "    ax.set(xlabel='Episode', ylabel='Cooperation')\n",
    "    #plt.show()\n",
    "    plt.savefig('{}-cooperation.pdf'.format(df.iloc[0]['name']))"
   ]
  },
  {
   "cell_type": "code",
   "execution_count": 848,
   "metadata": {},
   "outputs": [],
   "source": [
    "def get_env_data(name, price, nb_agents, alpha):\n",
    "    if price is None:\n",
    "        log_str = '{}-nb-agents-{}-alpha-{}.csv'.format(name, nb_agents, alpha)\n",
    "    else:\n",
    "        log_str = '{}-price-{}-nb-agents-{}-alpha-{}.csv'.format(name, price, nb_agents, alpha)\n",
    "    print(log_str)\n",
    "    log_dir = os.path.join('exps', log_str)\n",
    "    df = None\n",
    "    if os.path.exists(log_dir):\n",
    "        df = pd.read_csv(log_dir)\n",
    "        df.loc[df['setting'] == 'Stochastic Market Game', 'setting'] = 'Sanction Game'\n",
    "        df.loc[df['setting'] == 'Markov Game', 'setting'] = 'No Sanctions'\n",
    "        df = df[df['agent'] == 'sum']\n",
    "        #df['reward'] = (df.reward-df.reward.min())/(df.reward.max()-df.reward.min())\n",
    "        df['price'] = df['price'].astype(str)\n",
    "        df['alpha'] = str(alpha)\n",
    "        #df['reward'] = df.reward.rolling(10).mean()\n",
    "        df['env'] = name                                              \n",
    "        #df = df.groupby(['episode', 'setting', 'agent', 'price', 'env']).mean().reset_index()\n",
    "        df = df.rename(columns={\"price\": \"Penalty\", \"setting\": \"Game Type\"})\n",
    "        df['name'] = '{}-nb-agents'.format(nb_agents)\n",
    "    return df"
   ]
  },
  {
   "cell_type": "code",
   "execution_count": 853,
   "metadata": {},
   "outputs": [
    {
     "name": "stdout",
     "output_type": "stream",
     "text": [
      "n_player_prisoners_dilemma-price--60-nb-agents-128-alpha-0.01.csv\n",
      "n_player_prisoners_dilemma-price--150-nb-agents-128-alpha-0.01.csv\n",
      "n_player_prisoners_dilemma-price--300-nb-agents-128-alpha-0.01.csv\n",
      "n_player_prisoners_dilemma-nb-agents-128-alpha-0.01.csv\n"
     ]
    }
   ],
   "source": [
    "nb_agents = 128\n",
    "if nb_agents == 16:\n",
    "    prices = [-30, -40] + [None]\n",
    "if nb_agents == 32:\n",
    "    prices = [-20, -40, -70] + [None]\n",
    "if nb_agents == 64:\n",
    "    prices = [-50, -100, -160] + [None]\n",
    "if nb_agents == 128:\n",
    "    prices = [-60, -150, -300] + [None]\n",
    "\n",
    "alpha = 0.01\n",
    "\n",
    "settings = ['n_player_prisoners_dilemma' for _ in range(len(prices))] + ['n_player_prisoners_dilemma']\n",
    "\n",
    "df = pd.DataFrame()\n",
    "for name, price in zip(settings, prices):\n",
    "    df_new = get_env_data(name, price, nb_agents, alpha)\n",
    "    if df_new is not None:\n",
    "        df = df.append(df_new)\n"
   ]
  },
  {
   "cell_type": "code",
   "execution_count": 854,
   "metadata": {},
   "outputs": [
    {
     "data": {
      "image/png": "[encoded data removed]",
      "text/plain": [
       "<Figure size 432x288 with 1 Axes>"
      ]
     },
     "metadata": {},
     "output_type": "display_data"
    }
   ],
   "source": [
    "plot_sd(df)"
   ]
  },
  {
   "cell_type": "markdown",
   "metadata": {},
   "source": [
    "## Shelling Diagramm"
   ]
  },
  {
   "cell_type": "code",
   "execution_count": 942,
   "metadata": {},
   "outputs": [],
   "source": [
    "def plot_shelling(df):\n",
    "    ax = sns.boxplot(data= df[df['episode'] < 500],\n",
    "                     x='setting',\n",
    "                     y='reward',\n",
    "                     hue='Agent',\n",
    "                     hue_order=['Non-Sanctioneer', 'Sanctioneer'],\n",
    "                     palette=flatui\n",
    "                     )\n",
    "    ax.set(xlabel='Sanctioning Agents', ylabel='Return')\n",
    "    #plt.show()\n",
    "    #plt.title(\"Early Training\")\n",
    "    plt.savefig('{}-return-1.pdf'.format(df.iloc[0]['name']))\n",
    "    plt.close()\n",
    "    \n",
    "    ax = sns.boxplot(data= df[df['episode'] > 500],\n",
    "                 x='setting',\n",
    "                 y='reward',\n",
    "                 hue='Agent',\n",
    "                 hue_order=['Non-Sanctioneer', 'Sanctioneer'],\n",
    "                 palette=flatui\n",
    "                 )\n",
    "    ax.set(xlabel='Sanctioning Agents', ylabel='Return')\n",
    "    #plt.show()\n",
    "    #plt.title(\"Late Training\")\n",
    "    plt.savefig('{}-return-2.pdf'.format(df.iloc[0]['name']))\n",
    "    plt.close()\n",
    "        \n",
    "def get_env_data(name, S, nb_agents, alpha):\n",
    "    log_str = 'shelling-{}-nb-sanctioneers-{}-nb-agents-{}-alpha-{}.csv'.format(name, S, nb_agents, alpha)\n",
    "    print(log_str)\n",
    "    log_dir = os.path.join('exps', log_str)\n",
    "    df = None\n",
    "    if os.path.exists(log_dir):\n",
    "        df = pd.read_csv(log_dir)\n",
    "        df.loc[df['setting'] == 'Stochastic Market Game', 'setting'] = 'Sanction Game'\n",
    "        df.loc[df['agent'] == 'sanctioneers', 'agent'] = 'Sanctioneer'\n",
    "        df.loc[df['agent'] == 'non-sanctioneers', 'agent'] = 'Non-Sanctioneer'\n",
    "        df['alpha'] = str(alpha)\n",
    "        df['env'] = name                                              \n",
    "        df['name'] = '{}-nb-agents'.format(nb_agents)\n",
    "        df = df.rename(columns={\"nb_sanctioneers\": \"Sanctioneers\", \"agent\": \"Agent\"})\n",
    "    return df"
   ]
  },
  {
   "cell_type": "code",
   "execution_count": 943,
   "metadata": {},
   "outputs": [
    {
     "name": "stdout",
     "output_type": "stream",
     "text": [
      "shelling-n_player_prisoners_dilemma-nb-sanctioneers-0-nb-agents-16-alpha-0.01.csv\n",
      "shelling-n_player_prisoners_dilemma-nb-sanctioneers-1-nb-agents-16-alpha-0.01.csv\n",
      "shelling-n_player_prisoners_dilemma-nb-sanctioneers-2-nb-agents-16-alpha-0.01.csv\n",
      "shelling-n_player_prisoners_dilemma-nb-sanctioneers-3-nb-agents-16-alpha-0.01.csv\n",
      "shelling-n_player_prisoners_dilemma-nb-sanctioneers-4-nb-agents-16-alpha-0.01.csv\n",
      "shelling-n_player_prisoners_dilemma-nb-sanctioneers-5-nb-agents-16-alpha-0.01.csv\n",
      "shelling-n_player_prisoners_dilemma-nb-sanctioneers-6-nb-agents-16-alpha-0.01.csv\n",
      "shelling-n_player_prisoners_dilemma-nb-sanctioneers-7-nb-agents-16-alpha-0.01.csv\n",
      "shelling-n_player_prisoners_dilemma-nb-sanctioneers-8-nb-agents-16-alpha-0.01.csv\n",
      "shelling-n_player_prisoners_dilemma-nb-sanctioneers-9-nb-agents-16-alpha-0.01.csv\n",
      "shelling-n_player_prisoners_dilemma-nb-sanctioneers-10-nb-agents-16-alpha-0.01.csv\n",
      "shelling-n_player_prisoners_dilemma-nb-sanctioneers-11-nb-agents-16-alpha-0.01.csv\n",
      "shelling-n_player_prisoners_dilemma-nb-sanctioneers-12-nb-agents-16-alpha-0.01.csv\n",
      "shelling-n_player_prisoners_dilemma-nb-sanctioneers-13-nb-agents-16-alpha-0.01.csv\n",
      "shelling-n_player_prisoners_dilemma-nb-sanctioneers-14-nb-agents-16-alpha-0.01.csv\n",
      "shelling-n_player_prisoners_dilemma-nb-sanctioneers-15-nb-agents-16-alpha-0.01.csv\n",
      "shelling-n_player_prisoners_dilemma-nb-sanctioneers-16-nb-agents-16-alpha-0.01.csv\n"
     ]
    }
   ],
   "source": [
    "nb_agents = 16\n",
    "nb_sanctioneers = []\n",
    "for i in range(nb_agents + 1):\n",
    "    nb_sanctioneers.append(i)\n",
    "alpha = 0.01\n",
    "settings = ['n_player_prisoners_dilemma' for _ in range(len(nb_sanctioneers ))]\n",
    "\n",
    "df = pd.DataFrame()\n",
    "for name, S in zip(settings, nb_sanctioneers):\n",
    "    df_new = get_env_data(name, S, nb_agents, alpha)\n",
    "    if df_new is not None:\n",
    "        df = df.append(df_new)"
   ]
  },
  {
   "cell_type": "code",
   "execution_count": 944,
   "metadata": {},
   "outputs": [],
   "source": [
    "plot_shelling(df)"
   ]
  },
  {
   "cell_type": "code",
   "execution_count": 941,
   "metadata": {},
   "outputs": [
    {
     "data": {
      "text/html": [
       "<div>\n",
       "<style scoped>\n",
       "    .dataframe tbody tr th:only-of-type {\n",
       "        vertical-align: middle;\n",
       "    }\n",
       "\n",
       "    .dataframe tbody tr th {\n",
       "        vertical-align: top;\n",
       "    }\n",
       "\n",
       "    .dataframe thead th {\n",
       "        text-align: right;\n",
       "    }\n",
       "</style>\n",
       "<table border=\"1\" class=\"dataframe\">\n",
       "  <thead>\n",
       "    <tr style=\"text-align: right;\">\n",
       "      <th></th>\n",
       "      <th>Unnamed: 0</th>\n",
       "      <th>run</th>\n",
       "      <th>episode</th>\n",
       "      <th>setting</th>\n",
       "      <th>Agent</th>\n",
       "      <th>reward</th>\n",
       "      <th>price</th>\n",
       "      <th>action</th>\n",
       "      <th>alpha</th>\n",
       "      <th>env</th>\n",
       "      <th>name</th>\n",
       "    </tr>\n",
       "  </thead>\n",
       "  <tbody>\n",
       "    <tr>\n",
       "      <th>0</th>\n",
       "      <td>0</td>\n",
       "      <td>0</td>\n",
       "      <td>0</td>\n",
       "      <td>0</td>\n",
       "      <td>sanctioneers</td>\n",
       "      <td>0.0</td>\n",
       "      <td>-30</td>\n",
       "      <td>0.5625</td>\n",
       "      <td>0.01</td>\n",
       "      <td>n_player_prisoners_dilemma</td>\n",
       "      <td>16-nb-agents</td>\n",
       "    </tr>\n",
       "    <tr>\n",
       "      <th>1</th>\n",
       "      <td>1</td>\n",
       "      <td>0</td>\n",
       "      <td>0</td>\n",
       "      <td>0</td>\n",
       "      <td>non-sanctioneers</td>\n",
       "      <td>81.0</td>\n",
       "      <td>-30</td>\n",
       "      <td>0.5625</td>\n",
       "      <td>0.01</td>\n",
       "      <td>n_player_prisoners_dilemma</td>\n",
       "      <td>16-nb-agents</td>\n",
       "    </tr>\n",
       "    <tr>\n",
       "      <th>2</th>\n",
       "      <td>2</td>\n",
       "      <td>0</td>\n",
       "      <td>100</td>\n",
       "      <td>0</td>\n",
       "      <td>sanctioneers</td>\n",
       "      <td>0.0</td>\n",
       "      <td>-30</td>\n",
       "      <td>0.4375</td>\n",
       "      <td>0.01</td>\n",
       "      <td>n_player_prisoners_dilemma</td>\n",
       "      <td>16-nb-agents</td>\n",
       "    </tr>\n",
       "    <tr>\n",
       "      <th>3</th>\n",
       "      <td>3</td>\n",
       "      <td>0</td>\n",
       "      <td>100</td>\n",
       "      <td>0</td>\n",
       "      <td>non-sanctioneers</td>\n",
       "      <td>49.0</td>\n",
       "      <td>-30</td>\n",
       "      <td>0.4375</td>\n",
       "      <td>0.01</td>\n",
       "      <td>n_player_prisoners_dilemma</td>\n",
       "      <td>16-nb-agents</td>\n",
       "    </tr>\n",
       "    <tr>\n",
       "      <th>4</th>\n",
       "      <td>4</td>\n",
       "      <td>0</td>\n",
       "      <td>200</td>\n",
       "      <td>0</td>\n",
       "      <td>sanctioneers</td>\n",
       "      <td>0.0</td>\n",
       "      <td>-30</td>\n",
       "      <td>0.2500</td>\n",
       "      <td>0.01</td>\n",
       "      <td>n_player_prisoners_dilemma</td>\n",
       "      <td>16-nb-agents</td>\n",
       "    </tr>\n",
       "    <tr>\n",
       "      <th>...</th>\n",
       "      <td>...</td>\n",
       "      <td>...</td>\n",
       "      <td>...</td>\n",
       "      <td>...</td>\n",
       "      <td>...</td>\n",
       "      <td>...</td>\n",
       "      <td>...</td>\n",
       "      <td>...</td>\n",
       "      <td>...</td>\n",
       "      <td>...</td>\n",
       "      <td>...</td>\n",
       "    </tr>\n",
       "    <tr>\n",
       "      <th>1995</th>\n",
       "      <td>1995</td>\n",
       "      <td>24</td>\n",
       "      <td>3700</td>\n",
       "      <td>16</td>\n",
       "      <td>non-sanctioneers</td>\n",
       "      <td>0.0</td>\n",
       "      <td>-30</td>\n",
       "      <td>0.8750</td>\n",
       "      <td>0.01</td>\n",
       "      <td>n_player_prisoners_dilemma</td>\n",
       "      <td>16-nb-agents</td>\n",
       "    </tr>\n",
       "    <tr>\n",
       "      <th>1996</th>\n",
       "      <td>1996</td>\n",
       "      <td>24</td>\n",
       "      <td>3800</td>\n",
       "      <td>16</td>\n",
       "      <td>sanctioneers</td>\n",
       "      <td>196.0</td>\n",
       "      <td>-30</td>\n",
       "      <td>0.8750</td>\n",
       "      <td>0.01</td>\n",
       "      <td>n_player_prisoners_dilemma</td>\n",
       "      <td>16-nb-agents</td>\n",
       "    </tr>\n",
       "    <tr>\n",
       "      <th>1997</th>\n",
       "      <td>1997</td>\n",
       "      <td>24</td>\n",
       "      <td>3800</td>\n",
       "      <td>16</td>\n",
       "      <td>non-sanctioneers</td>\n",
       "      <td>0.0</td>\n",
       "      <td>-30</td>\n",
       "      <td>0.8750</td>\n",
       "      <td>0.01</td>\n",
       "      <td>n_player_prisoners_dilemma</td>\n",
       "      <td>16-nb-agents</td>\n",
       "    </tr>\n",
       "    <tr>\n",
       "      <th>1998</th>\n",
       "      <td>1998</td>\n",
       "      <td>24</td>\n",
       "      <td>3900</td>\n",
       "      <td>16</td>\n",
       "      <td>sanctioneers</td>\n",
       "      <td>196.0</td>\n",
       "      <td>-30</td>\n",
       "      <td>0.8750</td>\n",
       "      <td>0.01</td>\n",
       "      <td>n_player_prisoners_dilemma</td>\n",
       "      <td>16-nb-agents</td>\n",
       "    </tr>\n",
       "    <tr>\n",
       "      <th>1999</th>\n",
       "      <td>1999</td>\n",
       "      <td>24</td>\n",
       "      <td>3900</td>\n",
       "      <td>16</td>\n",
       "      <td>non-sanctioneers</td>\n",
       "      <td>0.0</td>\n",
       "      <td>-30</td>\n",
       "      <td>0.8750</td>\n",
       "      <td>0.01</td>\n",
       "      <td>n_player_prisoners_dilemma</td>\n",
       "      <td>16-nb-agents</td>\n",
       "    </tr>\n",
       "  </tbody>\n",
       "</table>\n",
       "<p>34000 rows × 11 columns</p>\n",
       "</div>"
      ],
      "text/plain": [
       "      Unnamed: 0  run  episode setting             Agent  reward  price  \\\n",
       "0              0    0        0       0      sanctioneers     0.0    -30   \n",
       "1              1    0        0       0  non-sanctioneers    81.0    -30   \n",
       "2              2    0      100       0      sanctioneers     0.0    -30   \n",
       "3              3    0      100       0  non-sanctioneers    49.0    -30   \n",
       "4              4    0      200       0      sanctioneers     0.0    -30   \n",
       "...          ...  ...      ...     ...               ...     ...    ...   \n",
       "1995        1995   24     3700      16  non-sanctioneers     0.0    -30   \n",
       "1996        1996   24     3800      16      sanctioneers   196.0    -30   \n",
       "1997        1997   24     3800      16  non-sanctioneers     0.0    -30   \n",
       "1998        1998   24     3900      16      sanctioneers   196.0    -30   \n",
       "1999        1999   24     3900      16  non-sanctioneers     0.0    -30   \n",
       "\n",
       "      action alpha                         env          name  \n",
       "0     0.5625  0.01  n_player_prisoners_dilemma  16-nb-agents  \n",
       "1     0.5625  0.01  n_player_prisoners_dilemma  16-nb-agents  \n",
       "2     0.4375  0.01  n_player_prisoners_dilemma  16-nb-agents  \n",
       "3     0.4375  0.01  n_player_prisoners_dilemma  16-nb-agents  \n",
       "4     0.2500  0.01  n_player_prisoners_dilemma  16-nb-agents  \n",
       "...      ...   ...                         ...           ...  \n",
       "1995  0.8750  0.01  n_player_prisoners_dilemma  16-nb-agents  \n",
       "1996  0.8750  0.01  n_player_prisoners_dilemma  16-nb-agents  \n",
       "1997  0.8750  0.01  n_player_prisoners_dilemma  16-nb-agents  \n",
       "1998  0.8750  0.01  n_player_prisoners_dilemma  16-nb-agents  \n",
       "1999  0.8750  0.01  n_player_prisoners_dilemma  16-nb-agents  \n",
       "\n",
       "[34000 rows x 11 columns]"
      ]
     },
     "execution_count": 941,
     "metadata": {},
     "output_type": "execute_result"
    }
   ],
   "source": [
    "df"
   ]
  },
  {
   "cell_type": "code",
   "execution_count": 855,
   "metadata": {},
   "outputs": [],
   "source": [
    "from sklearn import preprocessing\n",
    "\n",
    "def get_env_data_box():\n",
    "    df_all = pd.DataFrame()\n",
    "    for name0, name1 in [('CH','Chicken'), ('SH', 'Stag Hunt'), ('PD', 'Priosner\\'s Dilemma')]:\n",
    "        log_str = '{}.csv'.format(name0)\n",
    "        log_dir = os.path.join('exps', log_str)\n",
    "        df = pd.read_csv(log_dir)\n",
    "        df['sd'] = name1\n",
    "\n",
    "        df = df[df['agent'] == 'agent-sum']\n",
    "        df['reward'] = (df.reward-df.reward.min())/(df.reward.max()-df.reward.min())\n",
    "\n",
    "        df = df[df['episode'] > 3900]\n",
    "        df_all = df_all.append(df, ignore_index=True)\n",
    "    \n",
    "    df_all = df_all.groupby(['episode', 'setting', 'agent', 'sd']).mean().reset_index()\n",
    "    \n",
    "    return df_all"
   ]
  },
  {
   "cell_type": "code",
   "execution_count": 856,
   "metadata": {},
   "outputs": [],
   "source": [
    "def plot_sd_box(df):          \n",
    "    #fig, axs = plt.subplots(ncols=3, nrows=1) #figsize=(16, 6))\n",
    "    ax = sns.boxplot(data=df,\n",
    "                     x='sd',\n",
    "                     y='reward',\n",
    "                     hue='setting',\n",
    "                     hue_order=['Stochastic Game', 'Market Game'],\n",
    "                     order=[\"Priosner\\'s Dilemma\", \"Chicken\", \"Stag Hunt\"],\n",
    "                     palette=flatui\n",
    "                     )\n",
    "    ax.set_xlabel('')\n",
    "    # plt.show()   \n",
    "    plt.savefig('market-games.pdf')"
   ]
  },
  {
   "cell_type": "code",
   "execution_count": 857,
   "metadata": {},
   "outputs": [],
   "source": [
    "df = get_env_data_box()"
   ]
  },
  {
   "cell_type": "code",
   "execution_count": 858,
   "metadata": {},
   "outputs": [
    {
     "data": {
      "image/png": "[encoded data removed]",
      "text/plain": [
       "<Figure size 432x288 with 1 Axes>"
      ]
     },
     "metadata": {},
     "output_type": "display_data"
    }
   ],
   "source": [
    "plot_sd_box(df)"
   ]
  },
  {
   "cell_type": "markdown",
   "metadata": {},
   "source": [
    "### Eval actions"
   ]
  },
  {
   "cell_type": "code",
   "execution_count": 844,
   "metadata": {},
   "outputs": [],
   "source": [
    "def plot_actions(df):\n",
    "    \n",
    "    df = df.rename(columns={\"successful_sanction_c\": \"C\", \"successful_sanction_d\": \"D\"})\n",
    "    \n",
    "    df_1 = df[['episode', 'C', 'D']].melt('episode', var_name='Successful Sanctions',  value_name='Number')\n",
    "    g = sns.lineplot(x=\"episode\", y=\"Number\", hue='Successful Sanctions', data=df_1)\n",
    "    g.set(xlabel='Episode', ylabel='Number')\n",
    "    #plt.show()\n",
    "    plt.savefig('{}-successful-sanctions.pdf'.format(df.iloc[0]['name']))\n",
    "    plt.close()\n",
    "    \n",
    "    df_2 = df[['episode', 'C-', 'CC', 'CD', 'D-', 'DC', 'DD']].melt('episode', var_name='Action',  value_name='Number')\n",
    "    g = sns.lineplot(x=\"episode\", y=\"Number\", hue='Action', data=df_2)\n",
    "    g.set(xlabel='Episode', ylabel='Number')\n",
    "    plt.savefig('{}-played-actions.pdf'.format(df.iloc[0]['name']))\n",
    "    #plt.show()\n",
    "    plt.close()\n",
    "    \n",
    "    #df.plot(x='episode', y=['Sanction C', 'Sanction D'])\n",
    "    \n",
    "    \n",
    "def get_env_data_actions(name, price, nb_agents):\n",
    "    log_str = '{}-price-{}-nb-agents-{}-alpha-0.01.csv'.format(name, price, nb_agents)\n",
    "    print(log_str)\n",
    "    log_dir = os.path.join('exps', 'eval-actions', log_str)\n",
    "    df = None\n",
    "    if os.path.exists(log_dir):\n",
    "        df = pd.read_csv(log_dir)\n",
    "        df.loc[df['setting'] == 'Stochastic Market Game', 'setting'] = 'Sanction Game'\n",
    "        df['env'] = name                                              \n",
    "        df['name'] = '{}-nb-agents'.format(nb_agents)\n",
    "        df = df.rename(columns={\"nb_sanctioneers\": \"Sanctioneers\"})\n",
    "    return df"
   ]
  },
  {
   "cell_type": "code",
   "execution_count": 845,
   "metadata": {},
   "outputs": [
    {
     "name": "stdout",
     "output_type": "stream",
     "text": [
      "n_player_prisoners_dilemma-price--160-nb-agents-64-alpha-0.01.csv\n"
     ]
    }
   ],
   "source": [
    "nb_agents = 64\n",
    "settings = ['n_player_prisoners_dilemma']\n",
    "prices = [-160]\n",
    "\n",
    "df = pd.DataFrame()\n",
    "for name, price in zip(settings, prices):\n",
    "    df_new = get_env_data_actions(name, price, nb_agents)\n",
    "    if df_new is not None:\n",
    "        df = df.append(df_new)"
   ]
  },
  {
   "cell_type": "code",
   "execution_count": 846,
   "metadata": {},
   "outputs": [],
   "source": [
    "plot_actions(df)"
   ]
  },
  {
   "cell_type": "code",
   "execution_count": null,
   "metadata": {},
   "outputs": [],
   "source": [
    "from sklearn import preprocessing\n",
    "\n",
    "def get_env_data_box_price():\n",
    "    df_all = pd.DataFrame()\n",
    "    for name0, name1 in [('PD', 'Priosner\\'s Dilemma')]:\n",
    "        for price in [-1.9, -2.0]:\n",
    "            log_str = '{}-price-{}.csv'.format(name0, price)\n",
    "            log_dir = os.path.join('exps', log_str)\n",
    "            df = pd.read_csv(log_dir)\n",
    "            df['sd'] = name1\n",
    "            \n",
    "            df = df[df['agent'] == 'agent-sum']\n",
    "            df['reward'] = (df.reward-df.reward.min())/(df.reward.max()-df.reward.min())\n",
    "            \n",
    "            df = df[df['episode'] > 3900]\n",
    "            df_all = df_all.append(df, ignore_index=True)\n",
    "    \n",
    "    df_all = df_all.groupby(['episode', 'setting', 'agent', 'price', 'sd']).mean().reset_index()\n",
    "    \n",
    "    return df_all"
   ]
  },
  {
   "cell_type": "code",
   "execution_count": null,
   "metadata": {},
   "outputs": [],
   "source": [
    "def plot_sd_box_price(df):          \n",
    "    #fig, axs = plt.subplots(ncols=3, nrows=1) #figsize=(16, 6))\n",
    "    ax = sns.boxplot(data=df,\n",
    "                     x='price',\n",
    "                     y='reward',\n",
    "                     hue='setting',\n",
    "                     hue_order=['Stochastic Game', 'Market Game'],\n",
    "                     palette=flatui\n",
    "                     )\n",
    "    ax.set_xlabel('')\n",
    "    # plt.show()   \n",
    "    plt.savefig('market-games.pdf')"
   ]
  },
  {
   "cell_type": "code",
   "execution_count": null,
   "metadata": {},
   "outputs": [],
   "source": [
    "df = get_env_data_box_price()"
   ]
  },
  {
   "cell_type": "code",
   "execution_count": null,
   "metadata": {},
   "outputs": [],
   "source": [
    "plot_sd_box_price(df)"
   ]
  },
  {
   "cell_type": "code",
   "execution_count": null,
   "metadata": {},
   "outputs": [],
   "source": []
  }
 ],
 "metadata": {
  "kernelspec": {
   "display_name": "deal",
   "language": "python",
   "name": "deal"
  },
  "language_info": {
   "codemirror_mode": {
    "name": "ipython",
    "version": 3
   },
   "file_extension": ".py",
   "mimetype": "text/x-python",
   "name": "python",
   "nbconvert_exporter": "python",
   "pygments_lexer": "ipython3",
   "version": "3.7.9"
  }
 },
 "nbformat": 4,
 "nbformat_minor": 2
}
